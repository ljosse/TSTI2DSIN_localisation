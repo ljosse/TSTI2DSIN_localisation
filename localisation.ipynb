{
 "cells": [
  {
   "cell_type": "markdown",
   "metadata": {},
   "source": [
    "<table style=\"border:1px solid black\">\n",
    "  <tbody>\n",
    "    <tr>\n",
    "      <td style=\"text-align: center; vertical-align: middle; border:1px solid black;\">\n",
    "        <h1>TP<br></h1></td>\n",
    "      <td style=\"text-align: center; vertical-align: middle; border:1px solid black;\">\n",
    "        <h1>CI14<br></h1></td>\n",
    "      <td style=\"text-align: center; vertical-align: middle; border:1px solid black;\">\n",
    "        <h1>Localisation<br></h1></td>\n",
    "      <td style=\"text-align: center; vertical-align: middle; border:1px solid black;\">\n",
    "          <img alt=\"STI2D\" src=\"STI2D_10722.gif\" /><h3>Enseignement SIN<br></h3></td>\n",
    "    </tr>\n",
    "    <tr>\n",
    "      <td colspan=\"2\" style=\"background-color:white; text-align: center; vertical-align: middle; border:1px solid black;\">\n",
    "            <img alt=\"logoLLG\" src=\"logoLLG.png\" /></td>\n",
    "      <td style=\"text-align: center; vertical-align: middle; border:1px solid black;\">\n",
    "        <h1>NMEA 183 - Communication RS232<br></h1></td>\n",
    "      <td style=\"background-color:white; text-align: center; vertical-align: middle; border:1px solid black;\">\n",
    "          <img alt=\"logoSTI2D\" src=\"logoSTI2D.png\" /></td>\n",
    "    </tr>\n",
    "  </tbody>\n",
    "</table>"
   ]
  },
  {
   "attachments": {},
   "cell_type": "markdown",
   "metadata": {},
   "source": [
    "<p>Il s’agit de localiser sur une carte de France les coordonnées relevées par le capteur GPS. Nous utilisons le langage Python avec la bibliothèque « folium ».<br>\n",
    "Les fonctions nécessaires sont les suivantes :</p>\n",
    "<ul>\n",
    "    <li>m = folium.Map(location=[43.29695, 5.38107]) : pour créer une carte \"m\" centrée sur les coordonnées GPS données. On peut ajouter l'option zoom_start=12 pour obtenir un zoom particulier.</li>\n",
    "    <li>folium.Marker([43.29695, 5.38107],popup=\"lieu recherché\").add_to(m) : pour ajouter un marqueur et un commentaire.</li>\n",
    "    <li>m : pour afficher la carte</li>\n",
    "</ul>\n",
    "<p>Exécuter le programme suivant (la carte peut mettre un certain temps à s'afficher suivant la valeur du zoom) :</p>"
   ]
  },
  {
   "cell_type": "code",
   "execution_count": null,
   "metadata": {},
   "outputs": [],
   "source": [
    "import folium\n",
    "lat = 43.29695\n",
    "long = 5.38107\n",
    "m = folium.Map(location=[lat,long],zoom_start=12)\n",
    "folium.Marker([lat,long],popup=\"lieu recherché\").add_to(m)\n",
    "m"
   ]
  },
  {
   "cell_type": "markdown",
   "metadata": {},
   "source": [
    "<p>On donne la chaîne de caractères pos = \"$GPGGA,123036.000,4850.8593,N,00220.6853,E,1,9,0.95,68.7,M,47.3,M,*6F\" qui devra être convertie en liste (lpos) pour en extraire plus facilement la latitude et la longitude. <br>\n",
    "Compléter le programme suivant puis le copier dans votre ENT : </p>"
   ]
  },
  {
   "cell_type": "code",
   "execution_count": null,
   "metadata": {},
   "outputs": [],
   "source": [
    "import folium\n",
    "pos = \"$GPGGA,123036.000,4850.8593,N,00220.6853,E,1,9,0.95,68.7,M,47.3,M,*6F\"\n",
    "\n",
    "# A compléter\n",
    "\n",
    "m\n"
   ]
  },
  {
   "cell_type": "code",
   "execution_count": null,
   "metadata": {},
   "outputs": [],
   "source": []
  }
 ],
 "metadata": {
  "kernelspec": {
   "display_name": "Python 3",
   "language": "python",
   "name": "python3"
  },
  "language_info": {
   "codemirror_mode": {
    "name": "ipython",
    "version": 3
   },
   "file_extension": ".py",
   "mimetype": "text/x-python",
   "name": "python",
   "nbconvert_exporter": "python",
   "pygments_lexer": "ipython3",
   "version": "3.7.3"
  }
 },
 "nbformat": 4,
 "nbformat_minor": 2
}
